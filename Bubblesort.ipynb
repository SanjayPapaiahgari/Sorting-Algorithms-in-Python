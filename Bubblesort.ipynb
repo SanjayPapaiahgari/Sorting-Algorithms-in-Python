# Sorting a list of numbers using Bubble Sort in Python
a = [int(i) for i in input().split(" ")]
print(a)
swapped=0
for i in range(len(a)-1):
    for j in range(len(a)-i-1):
        if a[j] > a[j+1]:
            a[j],a[j+1] = a[j+1],a[j]
            swapped=1
    if swapped == 0:
        break
print(a)
